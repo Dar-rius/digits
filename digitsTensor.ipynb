{
 "cells": [
  {
   "cell_type": "markdown",
   "id": "a8dc7484",
   "metadata": {},
   "source": [
    "# Importation"
   ]
  },
  {
   "cell_type": "code",
   "execution_count": 87,
   "id": "19db68bb",
   "metadata": {},
   "outputs": [],
   "source": [
    "from sklearn.datasets import load_digits\n",
    "import numpy as np\n",
    "import tensorflow as tf\n",
    "import matplotlib.pyplot as plt\n",
    "from sklearn.model_selection import train_test_split\n",
    "from sklearn.preprocessing import StandardScaler"
   ]
  },
  {
   "cell_type": "markdown",
   "id": "cf1f9751",
   "metadata": {},
   "source": [
    "# load the dataset and preprocessing"
   ]
  },
  {
   "cell_type": "code",
   "execution_count": 88,
   "id": "12ab5150",
   "metadata": {},
   "outputs": [
    {
     "name": "stdout",
     "output_type": "stream",
     "text": [
      "(1797, 64)\n",
      "(1797,)\n",
      "(1437, 64) (360, 64)\n",
      "(1797,) (360,)\n"
     ]
    }
   ],
   "source": [
    "#load digits\n",
    "digits = load_digits()\n",
    "\n",
    "#create the variables\n",
    "images = digits['images']\n",
    "images= images.reshape(-1, 64)\n",
    "targets = digits['target']\n",
    "\n",
    "#print shape \n",
    "print(images.shape)\n",
    "print(targets.shape)\n",
    "\n",
    "#standardscaler\n",
    "scaler =StandardScaler()\n",
    "scaler.fit_transform(images)\n",
    "\n",
    "#train test split\n",
    "img_train , img_test, targets_train, targets_test = train_test_split(images, targets, test_size=.2)\n",
    "print(img_train.shape, img_test.shape)\n",
    "print(targets.shape, targets_test.shape)"
   ]
  },
  {
   "cell_type": "markdown",
   "id": "275d498e",
   "metadata": {},
   "source": [
    "# Modeling"
   ]
  },
  {
   "cell_type": "code",
   "execution_count": 89,
   "id": "e90bd1e5",
   "metadata": {},
   "outputs": [],
   "source": [
    "#flatten\n",
    "model = tf.keras.models.Sequential()\n",
    "#model.add(tf.keras.layers.Flatten(input_shape=[8,8]))\n",
    "\n",
    "#create the layers\n",
    "model.add(tf.keras.layers.Dense(256 , input_dim= 64,activation = 'relu'))\n",
    "model.add(tf.keras.layers.Dense(128, activation= 'relu'))\n",
    "model.add(tf.keras.layers.Dense(10, activation='softmax'))"
   ]
  },
  {
   "cell_type": "code",
   "execution_count": 90,
   "id": "8b24d26d",
   "metadata": {
    "scrolled": true
   },
   "outputs": [
    {
     "name": "stdout",
     "output_type": "stream",
     "text": [
      "tf.Tensor(\n",
      "[[2.1512067e-01 1.8146307e-03 1.6382693e-03 4.6884568e-05 2.3639216e-06\n",
      "  7.7763563e-01 2.6526465e-03 2.3727052e-06 2.0368739e-04 8.8285928e-04]], shape=(1, 10), dtype=float32) [2]\n"
     ]
    }
   ],
   "source": [
    "prediction = model(img_train[0:1])\n",
    "print(prediction , targets_train[0:1])"
   ]
  },
  {
   "cell_type": "markdown",
   "id": "644cb167",
   "metadata": {},
   "source": [
    "# the summary of model"
   ]
  },
  {
   "cell_type": "code",
   "execution_count": 91,
   "id": "be6972b0",
   "metadata": {},
   "outputs": [
    {
     "name": "stdout",
     "output_type": "stream",
     "text": [
      "Model: \"sequential_23\"\n",
      "_________________________________________________________________\n",
      " Layer (type)                Output Shape              Param #   \n",
      "=================================================================\n",
      " dense_61 (Dense)            (None, 256)               16640     \n",
      "                                                                 \n",
      " dense_62 (Dense)            (None, 128)               32896     \n",
      "                                                                 \n",
      " dense_63 (Dense)            (None, 10)                1290      \n",
      "                                                                 \n",
      "=================================================================\n",
      "Total params: 50,826\n",
      "Trainable params: 50,826\n",
      "Non-trainable params: 0\n",
      "_________________________________________________________________\n",
      "None\n"
     ]
    }
   ],
   "source": [
    "print(model.summary())"
   ]
  },
  {
   "cell_type": "markdown",
   "id": "7299c707",
   "metadata": {},
   "source": [
    "# compile the model"
   ]
  },
  {
   "cell_type": "code",
   "execution_count": 92,
   "id": "224ed9f5",
   "metadata": {},
   "outputs": [],
   "source": [
    "model.compile(\n",
    "    loss = 'sparse_categorical_crossentropy',\n",
    "    optimizer = 'sgd',\n",
    "    metrics = ['accuracy']\n",
    ")"
   ]
  },
  {
   "cell_type": "markdown",
   "id": "0079664f",
   "metadata": {},
   "source": [
    "# fit the model"
   ]
  },
  {
   "cell_type": "code",
   "execution_count": 93,
   "id": "6ac2031a",
   "metadata": {},
   "outputs": [
    {
     "name": "stdout",
     "output_type": "stream",
     "text": [
      "Epoch 1/50\n",
      "36/36 [==============================] - 1s 9ms/step - loss: 1.2263 - accuracy: 0.7006 - val_loss: 0.3750 - val_accuracy: 0.8854\n",
      "Epoch 2/50\n",
      "36/36 [==============================] - 0s 3ms/step - loss: 0.2481 - accuracy: 0.9391 - val_loss: 0.3373 - val_accuracy: 0.8819\n",
      "Epoch 3/50\n",
      "36/36 [==============================] - 0s 2ms/step - loss: 0.1712 - accuracy: 0.9608 - val_loss: 0.2257 - val_accuracy: 0.9410\n",
      "Epoch 4/50\n",
      "36/36 [==============================] - 0s 2ms/step - loss: 0.1298 - accuracy: 0.9704 - val_loss: 0.1880 - val_accuracy: 0.9410\n",
      "Epoch 5/50\n",
      "36/36 [==============================] - 0s 4ms/step - loss: 0.1053 - accuracy: 0.9782 - val_loss: 0.1774 - val_accuracy: 0.9410\n",
      "Epoch 6/50\n",
      "36/36 [==============================] - 0s 3ms/step - loss: 0.0809 - accuracy: 0.9843 - val_loss: 0.1675 - val_accuracy: 0.9514\n",
      "Epoch 7/50\n",
      "36/36 [==============================] - 0s 3ms/step - loss: 0.0704 - accuracy: 0.9887 - val_loss: 0.1800 - val_accuracy: 0.9479\n",
      "Epoch 8/50\n",
      "36/36 [==============================] - 0s 3ms/step - loss: 0.0630 - accuracy: 0.9913 - val_loss: 0.1459 - val_accuracy: 0.9514\n",
      "Epoch 9/50\n",
      "36/36 [==============================] - 0s 3ms/step - loss: 0.0529 - accuracy: 0.9904 - val_loss: 0.1336 - val_accuracy: 0.9653\n",
      "Epoch 10/50\n",
      "36/36 [==============================] - 0s 4ms/step - loss: 0.0459 - accuracy: 0.9956 - val_loss: 0.1342 - val_accuracy: 0.9618\n",
      "Epoch 11/50\n",
      "36/36 [==============================] - 0s 3ms/step - loss: 0.0420 - accuracy: 0.9939 - val_loss: 0.1351 - val_accuracy: 0.9688\n",
      "Epoch 12/50\n",
      "36/36 [==============================] - 0s 3ms/step - loss: 0.0370 - accuracy: 0.9956 - val_loss: 0.1280 - val_accuracy: 0.9688\n",
      "Epoch 13/50\n",
      "36/36 [==============================] - 0s 3ms/step - loss: 0.0333 - accuracy: 0.9974 - val_loss: 0.1303 - val_accuracy: 0.9688\n",
      "Epoch 14/50\n",
      "36/36 [==============================] - 0s 4ms/step - loss: 0.0290 - accuracy: 0.9974 - val_loss: 0.1235 - val_accuracy: 0.9618\n",
      "Epoch 15/50\n",
      "36/36 [==============================] - 0s 3ms/step - loss: 0.0274 - accuracy: 0.9983 - val_loss: 0.1307 - val_accuracy: 0.9583\n",
      "Epoch 16/50\n",
      "36/36 [==============================] - 0s 2ms/step - loss: 0.0241 - accuracy: 0.9983 - val_loss: 0.1210 - val_accuracy: 0.9618\n",
      "Epoch 17/50\n",
      "36/36 [==============================] - 0s 4ms/step - loss: 0.0224 - accuracy: 0.9983 - val_loss: 0.1308 - val_accuracy: 0.9514\n",
      "Epoch 18/50\n",
      "36/36 [==============================] - 0s 2ms/step - loss: 0.0218 - accuracy: 1.0000 - val_loss: 0.1150 - val_accuracy: 0.9653\n",
      "Epoch 19/50\n",
      "36/36 [==============================] - 0s 3ms/step - loss: 0.0192 - accuracy: 0.9991 - val_loss: 0.1130 - val_accuracy: 0.9688\n",
      "Epoch 20/50\n",
      "36/36 [==============================] - 0s 3ms/step - loss: 0.0181 - accuracy: 1.0000 - val_loss: 0.1124 - val_accuracy: 0.9653\n",
      "Epoch 21/50\n",
      "36/36 [==============================] - 0s 7ms/step - loss: 0.0167 - accuracy: 1.0000 - val_loss: 0.1124 - val_accuracy: 0.9688\n",
      "Epoch 22/50\n",
      "36/36 [==============================] - 0s 4ms/step - loss: 0.0160 - accuracy: 1.0000 - val_loss: 0.1110 - val_accuracy: 0.9653\n",
      "Epoch 23/50\n",
      "36/36 [==============================] - 0s 2ms/step - loss: 0.0152 - accuracy: 1.0000 - val_loss: 0.1099 - val_accuracy: 0.9653\n",
      "Epoch 24/50\n",
      "36/36 [==============================] - 0s 5ms/step - loss: 0.0138 - accuracy: 1.0000 - val_loss: 0.1091 - val_accuracy: 0.9653\n",
      "Epoch 25/50\n",
      "36/36 [==============================] - 0s 5ms/step - loss: 0.0132 - accuracy: 1.0000 - val_loss: 0.1061 - val_accuracy: 0.9653\n",
      "Epoch 26/50\n",
      "36/36 [==============================] - 0s 3ms/step - loss: 0.0132 - accuracy: 1.0000 - val_loss: 0.1106 - val_accuracy: 0.9653\n",
      "Epoch 27/50\n",
      "36/36 [==============================] - 0s 3ms/step - loss: 0.0121 - accuracy: 1.0000 - val_loss: 0.1072 - val_accuracy: 0.9688\n",
      "Epoch 28/50\n",
      "36/36 [==============================] - 0s 4ms/step - loss: 0.0117 - accuracy: 1.0000 - val_loss: 0.1063 - val_accuracy: 0.9688\n",
      "Epoch 29/50\n",
      "36/36 [==============================] - 0s 4ms/step - loss: 0.0115 - accuracy: 1.0000 - val_loss: 0.1043 - val_accuracy: 0.9688\n",
      "Epoch 30/50\n",
      "36/36 [==============================] - 0s 6ms/step - loss: 0.0110 - accuracy: 1.0000 - val_loss: 0.1053 - val_accuracy: 0.9653\n",
      "Epoch 31/50\n",
      "36/36 [==============================] - 0s 8ms/step - loss: 0.0104 - accuracy: 1.0000 - val_loss: 0.1044 - val_accuracy: 0.9688\n",
      "Epoch 32/50\n",
      "36/36 [==============================] - 0s 9ms/step - loss: 0.0100 - accuracy: 1.0000 - val_loss: 0.1105 - val_accuracy: 0.9653\n",
      "Epoch 33/50\n",
      "36/36 [==============================] - 0s 6ms/step - loss: 0.0097 - accuracy: 1.0000 - val_loss: 0.1037 - val_accuracy: 0.9653\n",
      "Epoch 34/50\n",
      "36/36 [==============================] - 0s 5ms/step - loss: 0.0096 - accuracy: 1.0000 - val_loss: 0.1061 - val_accuracy: 0.9653\n",
      "Epoch 35/50\n",
      "36/36 [==============================] - 0s 3ms/step - loss: 0.0091 - accuracy: 1.0000 - val_loss: 0.1038 - val_accuracy: 0.9653\n",
      "Epoch 36/50\n",
      "36/36 [==============================] - 0s 3ms/step - loss: 0.0086 - accuracy: 1.0000 - val_loss: 0.1012 - val_accuracy: 0.9688\n",
      "Epoch 37/50\n",
      "36/36 [==============================] - 0s 3ms/step - loss: 0.0084 - accuracy: 1.0000 - val_loss: 0.1012 - val_accuracy: 0.9688\n",
      "Epoch 38/50\n",
      "36/36 [==============================] - 0s 2ms/step - loss: 0.0082 - accuracy: 1.0000 - val_loss: 0.1028 - val_accuracy: 0.9653\n",
      "Epoch 39/50\n",
      "36/36 [==============================] - 0s 2ms/step - loss: 0.0078 - accuracy: 1.0000 - val_loss: 0.0996 - val_accuracy: 0.9688\n",
      "Epoch 40/50\n",
      "36/36 [==============================] - 0s 3ms/step - loss: 0.0077 - accuracy: 1.0000 - val_loss: 0.0995 - val_accuracy: 0.9688\n",
      "Epoch 41/50\n",
      "36/36 [==============================] - 0s 3ms/step - loss: 0.0074 - accuracy: 1.0000 - val_loss: 0.1018 - val_accuracy: 0.9688\n",
      "Epoch 42/50\n",
      "36/36 [==============================] - 0s 3ms/step - loss: 0.0074 - accuracy: 1.0000 - val_loss: 0.1020 - val_accuracy: 0.9653\n",
      "Epoch 43/50\n",
      "36/36 [==============================] - 0s 3ms/step - loss: 0.0070 - accuracy: 1.0000 - val_loss: 0.1017 - val_accuracy: 0.9688\n",
      "Epoch 44/50\n",
      "36/36 [==============================] - 0s 2ms/step - loss: 0.0068 - accuracy: 1.0000 - val_loss: 0.0990 - val_accuracy: 0.9653\n",
      "Epoch 45/50\n",
      "36/36 [==============================] - 0s 2ms/step - loss: 0.0067 - accuracy: 1.0000 - val_loss: 0.0998 - val_accuracy: 0.9688\n",
      "Epoch 46/50\n",
      "36/36 [==============================] - 0s 3ms/step - loss: 0.0065 - accuracy: 1.0000 - val_loss: 0.0997 - val_accuracy: 0.9688\n",
      "Epoch 47/50\n",
      "36/36 [==============================] - 0s 3ms/step - loss: 0.0064 - accuracy: 1.0000 - val_loss: 0.0990 - val_accuracy: 0.9688\n",
      "Epoch 48/50\n",
      "36/36 [==============================] - 0s 3ms/step - loss: 0.0061 - accuracy: 1.0000 - val_loss: 0.1002 - val_accuracy: 0.9688\n",
      "Epoch 49/50\n",
      "36/36 [==============================] - 0s 2ms/step - loss: 0.0060 - accuracy: 1.0000 - val_loss: 0.0984 - val_accuracy: 0.9688\n",
      "Epoch 50/50\n",
      "36/36 [==============================] - 0s 3ms/step - loss: 0.0059 - accuracy: 1.0000 - val_loss: 0.0995 - val_accuracy: 0.9688\n"
     ]
    }
   ],
   "source": [
    "history = model.fit(img_train, targets_train, epochs=50, validation_split=.2)"
   ]
  },
  {
   "cell_type": "code",
   "execution_count": 94,
   "id": "3aee4065",
   "metadata": {},
   "outputs": [
    {
     "data": {
      "image/png": "[encoded data removed]",
      "text/plain": [
       "<Figure size 432x288 with 1 Axes>"
      ]
     },
     "metadata": {
      "needs_background": "light"
     },
     "output_type": "display_data"
    },
    {
     "data": {
      "image/png": "[encoded data removed]",
      "text/plain": [
       "<Figure size 432x288 with 1 Axes>"
      ]
     },
     "metadata": {
      "needs_background": "light"
     },
     "output_type": "display_data"
    }
   ],
   "source": [
    "#loss\n",
    "loss = history.history['loss']\n",
    "loss_val = history.history['val_loss']\n",
    "\n",
    "#accuracy\n",
    "accuracy = history.history['accuracy']\n",
    "acc_val = history.history['val_accuracy']\n",
    "\n",
    "#visulalization\n",
    "plt.figure()\n",
    "plt.plot(loss, label = 'loss')\n",
    "plt.plot(loss_val, label = 'val_loss')\n",
    "plt.title('Loss')\n",
    "plt.legend()\n",
    "plt.show()\n",
    "\n",
    "plt.figure()\n",
    "plt.plot(accuracy, label = 'accuracy')\n",
    "plt.plot(acc_val , label = 'val_acc')\n",
    "plt.title('Accuracy')\n",
    "plt.legend()\n",
    "plt.show()"
   ]
  },
  {
   "cell_type": "code",
   "execution_count": 101,
   "id": "db99808e",
   "metadata": {},
   "outputs": [
    {
     "name": "stdout",
     "output_type": "stream",
     "text": [
      "prediction:  tf.Tensor(\n",
      "[[4.1324878e-07 9.6202733e-08 8.0659100e-07 2.1928670e-05 2.9354635e-07\n",
      "  7.7084792e-08 5.4556981e-10 9.9995887e-01 2.1934347e-06 1.5328562e-05]], shape=(1, 10), dtype=float32) \n",
      "soit 7  \n",
      "targets: [7]\n"
     ]
    }
   ],
   "source": [
    "output = model(img_test[0:1])\n",
    "print('prediction: ',output, '\\nsoit', np.argmax(output),  ' \\ntargets:',targets_test[0:1])"
   ]
  }
 ],
 "metadata": {
  "kernelspec": {
   "display_name": "Python 3 (ipykernel)",
   "language": "python",
   "name": "python3"
  },
  "language_info": {
   "codemirror_mode": {
    "name": "ipython",
    "version": 3
   },
   "file_extension": ".py",
   "mimetype": "text/x-python",
   "name": "python",
   "nbconvert_exporter": "python",
   "pygments_lexer": "ipython3",
   "version": "3.9.9"
  }
 },
 "nbformat": 4,
 "nbformat_minor": 5
}

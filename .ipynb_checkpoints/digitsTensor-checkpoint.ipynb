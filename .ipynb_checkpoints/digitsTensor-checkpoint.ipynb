{
 "cells": [
  {
   "cell_type": "markdown",
   "id": "a8dc7484",
   "metadata": {},
   "source": [
    "# Importation"
   ]
  },
  {
   "cell_type": "code",
   "execution_count": 4,
   "id": "19db68bb",
   "metadata": {},
   "outputs": [],
   "source": [
    "from sklearn.datasets import load_digits\n",
    "import numpy as np\n",
    "import tensorflow as tf\n",
    "import matplotlib.pyplot as plt"
   ]
  },
  {
   "cell_type": "markdown",
   "id": "991c5b06",
   "metadata": {},
   "source": [
    "# load the dataset and preprocessing"
   ]
  },
  {
   "cell_type": "code",
   "execution_count": 5,
   "id": "12ab5150",
   "metadata": {},
   "outputs": [
    {
     "name": "stdout",
     "output_type": "stream",
     "text": [
      "(1797, 64)\n",
      "(1797,)\n",
      "(1437, 64) (360, 64)\n",
      "(1797,) (360,)\n"
     ]
    }
   ],
   "source": [
    "from sklearn.model_selection import train_test_split\n",
    "from sklearn.preprocessing import StandardScaler\n",
    "\n",
    "#load digits\n",
    "digits = load_digits()\n",
    "\n",
    "#create the variables\n",
    "images = digits['images']\n",
    "images= images.reshape(-1, 64)\n",
    "targets = digits['target']\n",
    "\n",
    "#print shape \n",
    "print(images.shape)\n",
    "print(targets.shape)\n",
    "\n",
    "#standardscaler\n",
    "scaler =StandardScaler()\n",
    "scaler.fit_transform(images)\n",
    "\n",
    "#train test split\n",
    "img_train , img_test, targets_train, targets_test = train_test_split(images, targets, test_size=.2)\n",
    "print(img_train.shape, img_test.shape)\n",
    "print(targets.shape, targets_test.shape)"
   ]
  },
  {
   "cell_type": "markdown",
   "id": "275d498e",
   "metadata": {},
   "source": [
    "# Modeling"
   ]
  },
  {
   "cell_type": "code",
   "execution_count": 6,
   "id": "e90bd1e5",
   "metadata": {},
   "outputs": [],
   "source": [
    "#flatten\n",
    "model = tf.keras.models.Sequential()\n",
    "model.add(tf.keras.layers.Flatten(input_shape=[8,8]))\n",
    "\n",
    "#create the layers\n",
    "model.add(tf.keras.layers.Dense(256, activation = 'relu'))\n",
    "model.add(tf.keras.layers.Dense(128, activation= 'relu'))\n",
    "model.add(tf.keras.layers.Dense(10, activation='softmax'))"
   ]
  },
  {
   "cell_type": "code",
   "execution_count": 7,
   "id": "8b24d26d",
   "metadata": {
    "scrolled": true
   },
   "outputs": [
    {
     "name": "stdout",
     "output_type": "stream",
     "text": [
      "tf.Tensor(\n",
      "[[2.5608810e-04 3.1333162e-05 4.5964363e-05 1.1433738e-06 9.9816197e-01\n",
      "  3.2493813e-06 4.1816098e-04 9.3192142e-04 6.6449784e-06 1.4352190e-04]], shape=(1, 10), dtype=float32) [2]\n"
     ]
    }
   ],
   "source": [
    "prediction = model(img_train[0:1])\n",
    "print(prediction , targets_train[0:1])"
   ]
  },
  {
   "cell_type": "markdown",
   "id": "644cb167",
   "metadata": {},
   "source": [
    "# the summary of model"
   ]
  },
  {
   "cell_type": "code",
   "execution_count": 8,
   "id": "be6972b0",
   "metadata": {},
   "outputs": [
    {
     "name": "stdout",
     "output_type": "stream",
     "text": [
      "Model: \"sequential_1\"\n",
      "_________________________________________________________________\n",
      "Layer (type)                 Output Shape              Param #   \n",
      "=================================================================\n",
      "flatten_1 (Flatten)          (None, 64)                0         \n",
      "_________________________________________________________________\n",
      "dense_3 (Dense)              (None, 256)               16640     \n",
      "_________________________________________________________________\n",
      "dense_4 (Dense)              (None, 128)               32896     \n",
      "_________________________________________________________________\n",
      "dense_5 (Dense)              (None, 10)                1290      \n",
      "=================================================================\n",
      "Total params: 50,826\n",
      "Trainable params: 50,826\n",
      "Non-trainable params: 0\n",
      "_________________________________________________________________\n",
      "None\n"
     ]
    }
   ],
   "source": [
    "print(model.summary())"
   ]
  },
  {
   "cell_type": "markdown",
   "id": "7299c707",
   "metadata": {},
   "source": [
    "# compile the model"
   ]
  },
  {
   "cell_type": "code",
   "execution_count": 9,
   "id": "224ed9f5",
   "metadata": {},
   "outputs": [],
   "source": [
    "model.compile(\n",
    "    loss = 'sparse_categorical_crossentropy',\n",
    "    optimizer = 'sgd',\n",
    "    metrics = ['accuracy']\n",
    ")"
   ]
  },
  {
   "cell_type": "markdown",
   "id": "0079664f",
   "metadata": {},
   "source": [
    "# fit the model"
   ]
  },
  {
   "cell_type": "code",
   "execution_count": 10,
   "id": "6ac2031a",
   "metadata": {},
   "outputs": [
    {
     "name": "stdout",
     "output_type": "stream",
     "text": [
      "Epoch 1/50\n",
      "WARNING:tensorflow:Model was constructed with shape (None, 8, 8) for input KerasTensor(type_spec=TensorSpec(shape=(None, 8, 8), dtype=tf.float32, name='flatten_1_input'), name='flatten_1_input', description=\"created by layer 'flatten_1_input'\"), but it was called on an input with incompatible shape (None, 64).\n"
     ]
    },
    {
     "name": "stderr",
     "output_type": "stream",
     "text": [
      "2021-09-05 12:11:44.185137: I tensorflow/compiler/mlir/mlir_graph_optimization_pass.cc:185] None of the MLIR Optimization Passes are enabled (registered 2)\n"
     ]
    },
    {
     "name": "stdout",
     "output_type": "stream",
     "text": [
      "WARNING:tensorflow:Model was constructed with shape (None, 8, 8) for input KerasTensor(type_spec=TensorSpec(shape=(None, 8, 8), dtype=tf.float32, name='flatten_1_input'), name='flatten_1_input', description=\"created by layer 'flatten_1_input'\"), but it was called on an input with incompatible shape (None, 64).\n",
      "30/36 [========================>.....] - ETA: 0s - loss: 1.4705 - accuracy: 0.6625 WARNING:tensorflow:Model was constructed with shape (None, 8, 8) for input KerasTensor(type_spec=TensorSpec(shape=(None, 8, 8), dtype=tf.float32, name='flatten_1_input'), name='flatten_1_input', description=\"created by layer 'flatten_1_input'\"), but it was called on an input with incompatible shape (32, 64).\n",
      "36/36 [==============================] - 1s 9ms/step - loss: 1.3024 - accuracy: 0.6919 - val_loss: 0.3603 - val_accuracy: 0.9132\n",
      "Epoch 2/50\n",
      "36/36 [==============================] - 0s 3ms/step - loss: 0.2578 - accuracy: 0.9225 - val_loss: 0.2324 - val_accuracy: 0.9271\n",
      "Epoch 3/50\n",
      "36/36 [==============================] - 0s 2ms/step - loss: 0.1627 - accuracy: 0.9556 - val_loss: 0.1923 - val_accuracy: 0.9514\n",
      "Epoch 4/50\n",
      "36/36 [==============================] - 0s 3ms/step - loss: 0.1188 - accuracy: 0.9756 - val_loss: 0.1901 - val_accuracy: 0.9340\n",
      "Epoch 5/50\n",
      "36/36 [==============================] - 0s 2ms/step - loss: 0.0921 - accuracy: 0.9843 - val_loss: 0.1621 - val_accuracy: 0.9514\n",
      "Epoch 6/50\n",
      "36/36 [==============================] - 0s 2ms/step - loss: 0.0750 - accuracy: 0.9878 - val_loss: 0.1726 - val_accuracy: 0.9306\n",
      "Epoch 7/50\n",
      "36/36 [==============================] - 0s 3ms/step - loss: 0.0634 - accuracy: 0.9904 - val_loss: 0.1661 - val_accuracy: 0.9514\n",
      "Epoch 8/50\n",
      "36/36 [==============================] - 0s 3ms/step - loss: 0.0560 - accuracy: 0.9930 - val_loss: 0.1539 - val_accuracy: 0.9479\n",
      "Epoch 9/50\n",
      "36/36 [==============================] - 0s 2ms/step - loss: 0.0501 - accuracy: 0.9930 - val_loss: 0.1398 - val_accuracy: 0.9583\n",
      "Epoch 10/50\n",
      "36/36 [==============================] - 0s 3ms/step - loss: 0.0441 - accuracy: 0.9939 - val_loss: 0.1392 - val_accuracy: 0.9549\n",
      "Epoch 11/50\n",
      "36/36 [==============================] - 0s 3ms/step - loss: 0.0400 - accuracy: 0.9939 - val_loss: 0.1480 - val_accuracy: 0.9618\n",
      "Epoch 12/50\n",
      "36/36 [==============================] - 0s 3ms/step - loss: 0.0346 - accuracy: 0.9983 - val_loss: 0.1290 - val_accuracy: 0.9583\n",
      "Epoch 13/50\n",
      "36/36 [==============================] - 0s 3ms/step - loss: 0.0325 - accuracy: 0.9974 - val_loss: 0.1248 - val_accuracy: 0.9549\n",
      "Epoch 14/50\n",
      "36/36 [==============================] - 0s 3ms/step - loss: 0.0281 - accuracy: 0.9991 - val_loss: 0.1347 - val_accuracy: 0.9618\n",
      "Epoch 15/50\n",
      "36/36 [==============================] - 0s 3ms/step - loss: 0.0283 - accuracy: 0.9974 - val_loss: 0.1189 - val_accuracy: 0.9583\n",
      "Epoch 16/50\n",
      "36/36 [==============================] - 0s 3ms/step - loss: 0.0240 - accuracy: 0.9965 - val_loss: 0.1321 - val_accuracy: 0.9618\n",
      "Epoch 17/50\n",
      "36/36 [==============================] - 0s 3ms/step - loss: 0.0228 - accuracy: 0.9983 - val_loss: 0.1273 - val_accuracy: 0.9618\n",
      "Epoch 18/50\n",
      "36/36 [==============================] - 0s 2ms/step - loss: 0.0202 - accuracy: 0.9991 - val_loss: 0.1247 - val_accuracy: 0.9583\n",
      "Epoch 19/50\n",
      "36/36 [==============================] - 0s 3ms/step - loss: 0.0185 - accuracy: 0.9983 - val_loss: 0.1458 - val_accuracy: 0.9583\n",
      "Epoch 20/50\n",
      "36/36 [==============================] - 0s 3ms/step - loss: 0.0180 - accuracy: 0.9983 - val_loss: 0.1137 - val_accuracy: 0.9583\n",
      "Epoch 21/50\n",
      "36/36 [==============================] - 0s 2ms/step - loss: 0.0176 - accuracy: 0.9991 - val_loss: 0.1230 - val_accuracy: 0.9583\n",
      "Epoch 22/50\n",
      "36/36 [==============================] - 0s 2ms/step - loss: 0.0152 - accuracy: 0.9991 - val_loss: 0.1308 - val_accuracy: 0.9514\n",
      "Epoch 23/50\n",
      "36/36 [==============================] - 0s 3ms/step - loss: 0.0148 - accuracy: 0.9991 - val_loss: 0.1260 - val_accuracy: 0.9618\n",
      "Epoch 24/50\n",
      "36/36 [==============================] - 0s 3ms/step - loss: 0.0136 - accuracy: 1.0000 - val_loss: 0.1245 - val_accuracy: 0.9583\n",
      "Epoch 25/50\n",
      "36/36 [==============================] - 0s 2ms/step - loss: 0.0132 - accuracy: 1.0000 - val_loss: 0.1272 - val_accuracy: 0.9583\n",
      "Epoch 26/50\n",
      "36/36 [==============================] - 0s 3ms/step - loss: 0.0128 - accuracy: 1.0000 - val_loss: 0.1242 - val_accuracy: 0.9618\n",
      "Epoch 27/50\n",
      "36/36 [==============================] - 0s 3ms/step - loss: 0.0120 - accuracy: 1.0000 - val_loss: 0.1197 - val_accuracy: 0.9583\n",
      "Epoch 28/50\n",
      "36/36 [==============================] - 0s 2ms/step - loss: 0.0115 - accuracy: 1.0000 - val_loss: 0.1223 - val_accuracy: 0.9583\n",
      "Epoch 29/50\n",
      "36/36 [==============================] - 0s 3ms/step - loss: 0.0109 - accuracy: 1.0000 - val_loss: 0.1183 - val_accuracy: 0.9618\n",
      "Epoch 30/50\n",
      "36/36 [==============================] - 0s 3ms/step - loss: 0.0105 - accuracy: 1.0000 - val_loss: 0.1135 - val_accuracy: 0.9583\n",
      "Epoch 31/50\n",
      "36/36 [==============================] - 0s 3ms/step - loss: 0.0101 - accuracy: 1.0000 - val_loss: 0.1215 - val_accuracy: 0.9583\n",
      "Epoch 32/50\n",
      "36/36 [==============================] - 0s 3ms/step - loss: 0.0096 - accuracy: 1.0000 - val_loss: 0.1170 - val_accuracy: 0.9583\n",
      "Epoch 33/50\n",
      "36/36 [==============================] - 0s 3ms/step - loss: 0.0093 - accuracy: 1.0000 - val_loss: 0.1247 - val_accuracy: 0.9583\n",
      "Epoch 34/50\n",
      "36/36 [==============================] - 0s 2ms/step - loss: 0.0090 - accuracy: 1.0000 - val_loss: 0.1215 - val_accuracy: 0.9583\n",
      "Epoch 35/50\n",
      "36/36 [==============================] - 0s 3ms/step - loss: 0.0087 - accuracy: 1.0000 - val_loss: 0.1172 - val_accuracy: 0.9583\n",
      "Epoch 36/50\n",
      "36/36 [==============================] - 0s 2ms/step - loss: 0.0084 - accuracy: 1.0000 - val_loss: 0.1190 - val_accuracy: 0.9583\n",
      "Epoch 37/50\n",
      "36/36 [==============================] - 0s 3ms/step - loss: 0.0080 - accuracy: 1.0000 - val_loss: 0.1196 - val_accuracy: 0.9618\n",
      "Epoch 38/50\n",
      "36/36 [==============================] - 0s 3ms/step - loss: 0.0079 - accuracy: 1.0000 - val_loss: 0.1171 - val_accuracy: 0.9583\n",
      "Epoch 39/50\n",
      "36/36 [==============================] - 0s 3ms/step - loss: 0.0075 - accuracy: 1.0000 - val_loss: 0.1152 - val_accuracy: 0.9583\n",
      "Epoch 40/50\n",
      "36/36 [==============================] - 0s 3ms/step - loss: 0.0072 - accuracy: 1.0000 - val_loss: 0.1173 - val_accuracy: 0.9618\n",
      "Epoch 41/50\n",
      "36/36 [==============================] - 0s 3ms/step - loss: 0.0072 - accuracy: 1.0000 - val_loss: 0.1218 - val_accuracy: 0.9618\n",
      "Epoch 42/50\n",
      "36/36 [==============================] - 0s 3ms/step - loss: 0.0071 - accuracy: 1.0000 - val_loss: 0.1197 - val_accuracy: 0.9583\n",
      "Epoch 43/50\n",
      "36/36 [==============================] - 0s 3ms/step - loss: 0.0068 - accuracy: 1.0000 - val_loss: 0.1191 - val_accuracy: 0.9618\n",
      "Epoch 44/50\n",
      "36/36 [==============================] - 0s 3ms/step - loss: 0.0065 - accuracy: 1.0000 - val_loss: 0.1197 - val_accuracy: 0.9583\n",
      "Epoch 45/50\n",
      "36/36 [==============================] - 0s 3ms/step - loss: 0.0062 - accuracy: 1.0000 - val_loss: 0.1125 - val_accuracy: 0.9583\n",
      "Epoch 46/50\n",
      "36/36 [==============================] - 0s 2ms/step - loss: 0.0063 - accuracy: 1.0000 - val_loss: 0.1201 - val_accuracy: 0.9583\n",
      "Epoch 47/50\n",
      "36/36 [==============================] - 0s 2ms/step - loss: 0.0060 - accuracy: 1.0000 - val_loss: 0.1177 - val_accuracy: 0.9583\n",
      "Epoch 48/50\n",
      "36/36 [==============================] - 0s 3ms/step - loss: 0.0058 - accuracy: 1.0000 - val_loss: 0.1201 - val_accuracy: 0.9618\n",
      "Epoch 49/50\n",
      "36/36 [==============================] - 0s 3ms/step - loss: 0.0057 - accuracy: 1.0000 - val_loss: 0.1176 - val_accuracy: 0.9583\n",
      "Epoch 50/50\n",
      "36/36 [==============================] - 0s 3ms/step - loss: 0.0056 - accuracy: 1.0000 - val_loss: 0.1164 - val_accuracy: 0.9583\n"
     ]
    }
   ],
   "source": [
    "history = model.fit(img_train, targets_train, epochs=50, validation_split=.2)"
   ]
  },
  {
   "cell_type": "code",
   "execution_count": 11,
   "id": "3aee4065",
   "metadata": {},
   "outputs": [
    {
     "data": {
      "image/png": "[encoded data removed]",
      "text/plain": [
       "<Figure size 432x288 with 1 Axes>"
      ]
     },
     "metadata": {
      "needs_background": "light"
     },
     "output_type": "display_data"
    },
    {
     "data": {
      "image/png": "[encoded data removed]",
      "text/plain": [
       "<Figure size 432x288 with 1 Axes>"
      ]
     },
     "metadata": {
      "needs_background": "light"
     },
     "output_type": "display_data"
    }
   ],
   "source": [
    "#loss\n",
    "loss = history.history['loss']\n",
    "loss_val = history.history['val_loss']\n",
    "\n",
    "#accuracy\n",
    "accuracy = history.history['accuracy']\n",
    "acc_val = history.history['val_accuracy']\n",
    "\n",
    "#visulalization\n",
    "plt.figure()\n",
    "plt.plot(loss, label = 'loss')\n",
    "plt.plot(loss_val, label = 'val_loss')\n",
    "plt.title('Loss')\n",
    "plt.legend()\n",
    "plt.show()\n",
    "\n",
    "plt.figure()\n",
    "plt.plot(accuracy, label = 'accuracy')\n",
    "plt.plot(acc_val , label = 'val_acc')\n",
    "plt.title('Accuracy')\n",
    "plt.legend()\n",
    "plt.show()"
   ]
  },
  {
   "cell_type": "code",
   "execution_count": 13,
   "id": "db99808e",
   "metadata": {},
   "outputs": [
    {
     "name": "stdout",
     "output_type": "stream",
     "text": [
      "prediction:  tf.Tensor(\n",
      "[[2.1150508e-05 1.5632142e-05 2.4030991e-04 4.3662635e-04 4.4110628e-05\n",
      "  1.6021951e-03 1.0464491e-05 2.1404916e-04 9.9163967e-01 5.7758950e-03]], shape=(1, 10), dtype=float32) \n",
      " targets: [8]\n"
     ]
    }
   ],
   "source": [
    "output = model(img_test[0:1])\n",
    "print('prediction: ',output, '\\n targets:',targets_test[0:1])"
   ]
  },
  {
   "cell_type": "code",
   "execution_count": null,
   "id": "b4384f05",
   "metadata": {},
   "outputs": [],
   "source": []
  }
 ],
 "metadata": {
  "kernelspec": {
   "display_name": "Python 3 (ipykernel)",
   "language": "python",
   "name": "python3"
  },
  "language_info": {
   "codemirror_mode": {
    "name": "ipython",
    "version": 3
   },
   "file_extension": ".py",
   "mimetype": "text/x-python",
   "name": "python",
   "nbconvert_exporter": "python",
   "pygments_lexer": "ipython3",
   "version": "3.9.5"
  }
 },
 "nbformat": 4,
 "nbformat_minor": 5
}

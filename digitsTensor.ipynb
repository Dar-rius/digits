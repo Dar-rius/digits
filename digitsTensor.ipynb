{
 "cells": [
  {
   "cell_type": "markdown",
   "id": "a8dc7484",
   "metadata": {},
   "source": [
    "# Importation"
   ]
  },
  {
   "cell_type": "code",
   "execution_count": 67,
   "id": "19db68bb",
   "metadata": {},
   "outputs": [],
   "source": [
    "from sklearn.datasets import load_digits\n",
    "import numpy as np\n",
    "import tensorflow as tf\n",
    "import matplotlib.pyplot as plt\n",
    "from sklearn.model_selection import train_test_split\n",
    "from sklearn.preprocessing import StandardScaler"
   ]
  },
  {
   "cell_type": "markdown",
   "id": "cf1f9751",
   "metadata": {},
   "source": [
    "# load the dataset and preprocessing"
   ]
  },
  {
   "cell_type": "code",
   "execution_count": 68,
   "id": "12ab5150",
   "metadata": {},
   "outputs": [
    {
     "name": "stdout",
     "output_type": "stream",
     "text": [
      "(1797, 64)\n",
      "(1797,)\n",
      "(1437, 64) (360, 64)\n",
      "(1797,) (360,)\n"
     ]
    }
   ],
   "source": [
    "#load digits\n",
    "digits = load_digits()\n",
    "\n",
    "#create the variables\n",
    "images = digits['images']\n",
    "images= images.reshape(-1, 64)\n",
    "targets = digits['target']\n",
    "\n",
    "#print shape \n",
    "print(images.shape)\n",
    "print(targets.shape)\n",
    "\n",
    "#standardscaler\n",
    "scaler =StandardScaler()\n",
    "scaler.fit_transform(images)\n",
    "\n",
    "#train test split\n",
    "img_train , img_test, targets_train, targets_test = train_test_split(images, targets, test_size=.2)\n",
    "print(img_train.shape, img_test.shape)\n",
    "print(targets.shape, targets_test.shape)"
   ]
  },
  {
   "cell_type": "markdown",
   "id": "275d498e",
   "metadata": {},
   "source": [
    "# Modeling"
   ]
  },
  {
   "cell_type": "code",
   "execution_count": 69,
   "id": "e90bd1e5",
   "metadata": {},
   "outputs": [],
   "source": [
    "#flatten\n",
    "model = tf.keras.models.Sequential()\n",
    "#model.add(tf.keras.layers.Flatten(input_shape=[8,8]))\n",
    "\n",
    "#create the layers\n",
    "model.add(tf.keras.layers.Dense(256 , input_dim= 64,activation = 'relu'))\n",
    "model.add(tf.keras.layers.Dense(128, activation= 'relu'))\n",
    "model.add(tf.keras.layers.Dense(10, activation='softmax'))"
   ]
  },
  {
   "cell_type": "code",
   "execution_count": 70,
   "id": "8b24d26d",
   "metadata": {
    "scrolled": true
   },
   "outputs": [
    {
     "name": "stdout",
     "output_type": "stream",
     "text": [
      "tf.Tensor(\n",
      "[[1.4944447e-04 1.2400619e-01 1.3830539e-05 4.3815505e-02 5.9327506e-03\n",
      "  7.9055041e-01 3.5154894e-02 3.4098564e-05 2.4990202e-04 9.2985036e-05]], shape=(1, 10), dtype=float32) [8]\n"
     ]
    }
   ],
   "source": [
    "prediction = model(img_train[0:1])\n",
    "print(prediction , targets_train[0:1])"
   ]
  },
  {
   "cell_type": "markdown",
   "id": "644cb167",
   "metadata": {},
   "source": [
    "# the summary of model"
   ]
  },
  {
   "cell_type": "code",
   "execution_count": 71,
   "id": "be6972b0",
   "metadata": {},
   "outputs": [
    {
     "name": "stdout",
     "output_type": "stream",
     "text": [
      "Model: \"sequential_21\"\n",
      "_________________________________________________________________\n",
      " Layer (type)                Output Shape              Param #   \n",
      "=================================================================\n",
      " dense_55 (Dense)            (None, 256)               16640     \n",
      "                                                                 \n",
      " dense_56 (Dense)            (None, 128)               32896     \n",
      "                                                                 \n",
      " dense_57 (Dense)            (None, 10)                1290      \n",
      "                                                                 \n",
      "=================================================================\n",
      "Total params: 50,826\n",
      "Trainable params: 50,826\n",
      "Non-trainable params: 0\n",
      "_________________________________________________________________\n",
      "None\n"
     ]
    }
   ],
   "source": [
    "print(model.summary())"
   ]
  },
  {
   "cell_type": "markdown",
   "id": "7299c707",
   "metadata": {},
   "source": [
    "# compile the model"
   ]
  },
  {
   "cell_type": "code",
   "execution_count": 72,
   "id": "224ed9f5",
   "metadata": {},
   "outputs": [],
   "source": [
    "model.compile(\n",
    "    loss = 'sparse_categorical_crossentropy',\n",
    "    optimizer = 'sgd',\n",
    "    metrics = ['accuracy']\n",
    ")"
   ]
  },
  {
   "cell_type": "markdown",
   "id": "0079664f",
   "metadata": {},
   "source": [
    "# fit the model"
   ]
  },
  {
   "cell_type": "code",
   "execution_count": 73,
   "id": "6ac2031a",
   "metadata": {},
   "outputs": [
    {
     "name": "stdout",
     "output_type": "stream",
     "text": [
      "Epoch 1/50\n",
      "36/36 [==============================] - 1s 6ms/step - loss: 1.3429 - accuracy: 0.6945 - val_loss: 0.3050 - val_accuracy: 0.9167\n",
      "Epoch 2/50\n",
      "36/36 [==============================] - 0s 4ms/step - loss: 0.2448 - accuracy: 0.9330 - val_loss: 0.2101 - val_accuracy: 0.9514\n",
      "Epoch 3/50\n",
      "36/36 [==============================] - 0s 2ms/step - loss: 0.1640 - accuracy: 0.9574 - val_loss: 0.1768 - val_accuracy: 0.9549\n",
      "Epoch 4/50\n",
      "36/36 [==============================] - 0s 2ms/step - loss: 0.1293 - accuracy: 0.9652 - val_loss: 0.1396 - val_accuracy: 0.9653\n",
      "Epoch 5/50\n",
      "36/36 [==============================] - 0s 3ms/step - loss: 0.0984 - accuracy: 0.9800 - val_loss: 0.1382 - val_accuracy: 0.9618\n",
      "Epoch 6/50\n",
      "36/36 [==============================] - 0s 3ms/step - loss: 0.0787 - accuracy: 0.9843 - val_loss: 0.1253 - val_accuracy: 0.9583\n",
      "Epoch 7/50\n",
      "36/36 [==============================] - 0s 6ms/step - loss: 0.0637 - accuracy: 0.9887 - val_loss: 0.1175 - val_accuracy: 0.9653\n",
      "Epoch 8/50\n",
      "36/36 [==============================] - 0s 6ms/step - loss: 0.0542 - accuracy: 0.9913 - val_loss: 0.1168 - val_accuracy: 0.9688\n",
      "Epoch 9/50\n",
      "36/36 [==============================] - 0s 6ms/step - loss: 0.0491 - accuracy: 0.9930 - val_loss: 0.1099 - val_accuracy: 0.9722\n",
      "Epoch 10/50\n",
      "36/36 [==============================] - 0s 10ms/step - loss: 0.0421 - accuracy: 0.9930 - val_loss: 0.1228 - val_accuracy: 0.9653\n",
      "Epoch 11/50\n",
      "36/36 [==============================] - 0s 4ms/step - loss: 0.0400 - accuracy: 0.9939 - val_loss: 0.1112 - val_accuracy: 0.9722\n",
      "Epoch 12/50\n",
      "36/36 [==============================] - 0s 7ms/step - loss: 0.0344 - accuracy: 0.9983 - val_loss: 0.1102 - val_accuracy: 0.9618\n",
      "Epoch 13/50\n",
      "36/36 [==============================] - 0s 5ms/step - loss: 0.0308 - accuracy: 0.9974 - val_loss: 0.0974 - val_accuracy: 0.9618\n",
      "Epoch 14/50\n",
      "36/36 [==============================] - 0s 6ms/step - loss: 0.0292 - accuracy: 0.9974 - val_loss: 0.1091 - val_accuracy: 0.9722\n",
      "Epoch 15/50\n",
      "36/36 [==============================] - 0s 7ms/step - loss: 0.0242 - accuracy: 1.0000 - val_loss: 0.0997 - val_accuracy: 0.9653\n",
      "Epoch 16/50\n",
      "36/36 [==============================] - 0s 7ms/step - loss: 0.0230 - accuracy: 0.9991 - val_loss: 0.0972 - val_accuracy: 0.9792\n",
      "Epoch 17/50\n",
      "36/36 [==============================] - 0s 8ms/step - loss: 0.0219 - accuracy: 0.9991 - val_loss: 0.0931 - val_accuracy: 0.9757\n",
      "Epoch 18/50\n",
      "36/36 [==============================] - 0s 7ms/step - loss: 0.0199 - accuracy: 0.9991 - val_loss: 0.0900 - val_accuracy: 0.9722\n",
      "Epoch 19/50\n",
      "36/36 [==============================] - 0s 4ms/step - loss: 0.0187 - accuracy: 1.0000 - val_loss: 0.0928 - val_accuracy: 0.9688\n",
      "Epoch 20/50\n",
      "36/36 [==============================] - 0s 4ms/step - loss: 0.0180 - accuracy: 0.9991 - val_loss: 0.0937 - val_accuracy: 0.9722\n",
      "Epoch 21/50\n",
      "36/36 [==============================] - 0s 3ms/step - loss: 0.0164 - accuracy: 1.0000 - val_loss: 0.0929 - val_accuracy: 0.9757\n",
      "Epoch 22/50\n",
      "36/36 [==============================] - 0s 4ms/step - loss: 0.0155 - accuracy: 1.0000 - val_loss: 0.0935 - val_accuracy: 0.9757\n",
      "Epoch 23/50\n",
      "36/36 [==============================] - 0s 3ms/step - loss: 0.0143 - accuracy: 1.0000 - val_loss: 0.0901 - val_accuracy: 0.9757\n",
      "Epoch 24/50\n",
      "36/36 [==============================] - 0s 4ms/step - loss: 0.0139 - accuracy: 0.9991 - val_loss: 0.0940 - val_accuracy: 0.9688\n",
      "Epoch 25/50\n",
      "36/36 [==============================] - 0s 3ms/step - loss: 0.0132 - accuracy: 1.0000 - val_loss: 0.0873 - val_accuracy: 0.9688\n",
      "Epoch 26/50\n",
      "36/36 [==============================] - 0s 3ms/step - loss: 0.0125 - accuracy: 1.0000 - val_loss: 0.0916 - val_accuracy: 0.9757\n",
      "Epoch 27/50\n",
      "36/36 [==============================] - 0s 3ms/step - loss: 0.0123 - accuracy: 1.0000 - val_loss: 0.0920 - val_accuracy: 0.9792\n",
      "Epoch 28/50\n",
      "36/36 [==============================] - 0s 7ms/step - loss: 0.0114 - accuracy: 1.0000 - val_loss: 0.0875 - val_accuracy: 0.9792\n",
      "Epoch 29/50\n",
      "36/36 [==============================] - 0s 4ms/step - loss: 0.0108 - accuracy: 1.0000 - val_loss: 0.0953 - val_accuracy: 0.9722\n",
      "Epoch 30/50\n",
      "36/36 [==============================] - 0s 6ms/step - loss: 0.0105 - accuracy: 1.0000 - val_loss: 0.0908 - val_accuracy: 0.9757\n",
      "Epoch 31/50\n",
      "36/36 [==============================] - 0s 4ms/step - loss: 0.0101 - accuracy: 1.0000 - val_loss: 0.0905 - val_accuracy: 0.9722\n",
      "Epoch 32/50\n",
      "36/36 [==============================] - 0s 2ms/step - loss: 0.0097 - accuracy: 1.0000 - val_loss: 0.0870 - val_accuracy: 0.9792\n",
      "Epoch 33/50\n",
      "36/36 [==============================] - 0s 3ms/step - loss: 0.0095 - accuracy: 1.0000 - val_loss: 0.0882 - val_accuracy: 0.9757\n",
      "Epoch 34/50\n",
      "36/36 [==============================] - 0s 3ms/step - loss: 0.0091 - accuracy: 1.0000 - val_loss: 0.0885 - val_accuracy: 0.9792\n",
      "Epoch 35/50\n",
      "36/36 [==============================] - 0s 3ms/step - loss: 0.0090 - accuracy: 1.0000 - val_loss: 0.0897 - val_accuracy: 0.9722\n",
      "Epoch 36/50\n",
      "36/36 [==============================] - 0s 3ms/step - loss: 0.0083 - accuracy: 1.0000 - val_loss: 0.0867 - val_accuracy: 0.9757\n",
      "Epoch 37/50\n",
      "36/36 [==============================] - 0s 3ms/step - loss: 0.0081 - accuracy: 1.0000 - val_loss: 0.0925 - val_accuracy: 0.9792\n",
      "Epoch 38/50\n",
      "36/36 [==============================] - 0s 3ms/step - loss: 0.0081 - accuracy: 1.0000 - val_loss: 0.0888 - val_accuracy: 0.9792\n",
      "Epoch 39/50\n",
      "36/36 [==============================] - 0s 3ms/step - loss: 0.0077 - accuracy: 1.0000 - val_loss: 0.0915 - val_accuracy: 0.9792\n",
      "Epoch 40/50\n",
      "36/36 [==============================] - 0s 2ms/step - loss: 0.0077 - accuracy: 1.0000 - val_loss: 0.0911 - val_accuracy: 0.9757\n",
      "Epoch 41/50\n",
      "36/36 [==============================] - 0s 3ms/step - loss: 0.0072 - accuracy: 1.0000 - val_loss: 0.0876 - val_accuracy: 0.9792\n",
      "Epoch 42/50\n",
      "36/36 [==============================] - 0s 3ms/step - loss: 0.0070 - accuracy: 1.0000 - val_loss: 0.0871 - val_accuracy: 0.9757\n",
      "Epoch 43/50\n",
      "36/36 [==============================] - 0s 3ms/step - loss: 0.0067 - accuracy: 1.0000 - val_loss: 0.0858 - val_accuracy: 0.9792\n",
      "Epoch 44/50\n",
      "36/36 [==============================] - 0s 3ms/step - loss: 0.0067 - accuracy: 1.0000 - val_loss: 0.0866 - val_accuracy: 0.9792\n",
      "Epoch 45/50\n",
      "36/36 [==============================] - 0s 3ms/step - loss: 0.0065 - accuracy: 1.0000 - val_loss: 0.0878 - val_accuracy: 0.9792\n",
      "Epoch 46/50\n",
      "36/36 [==============================] - 0s 3ms/step - loss: 0.0063 - accuracy: 1.0000 - val_loss: 0.0905 - val_accuracy: 0.9792\n",
      "Epoch 47/50\n",
      "36/36 [==============================] - 0s 3ms/step - loss: 0.0062 - accuracy: 1.0000 - val_loss: 0.0908 - val_accuracy: 0.9757\n",
      "Epoch 48/50\n",
      "36/36 [==============================] - 0s 5ms/step - loss: 0.0060 - accuracy: 1.0000 - val_loss: 0.0888 - val_accuracy: 0.9757\n",
      "Epoch 49/50\n",
      "36/36 [==============================] - 0s 4ms/step - loss: 0.0059 - accuracy: 1.0000 - val_loss: 0.0880 - val_accuracy: 0.9757\n",
      "Epoch 50/50\n",
      "36/36 [==============================] - 0s 4ms/step - loss: 0.0058 - accuracy: 1.0000 - val_loss: 0.0885 - val_accuracy: 0.9757\n"
     ]
    }
   ],
   "source": [
    "history = model.fit(img_train, targets_train, epochs=50, validation_split=.2)"
   ]
  },
  {
   "cell_type": "code",
   "execution_count": 74,
   "id": "3aee4065",
   "metadata": {},
   "outputs": [
    {
     "data": {
      "image/png": "[encoded data removed]",
      "text/plain": [
       "<Figure size 432x288 with 1 Axes>"
      ]
     },
     "metadata": {
      "needs_background": "light"
     },
     "output_type": "display_data"
    },
    {
     "data": {
      "image/png": "[encoded data removed]",
      "text/plain": [
       "<Figure size 432x288 with 1 Axes>"
      ]
     },
     "metadata": {
      "needs_background": "light"
     },
     "output_type": "display_data"
    }
   ],
   "source": [
    "#loss\n",
    "loss = history.history['loss']\n",
    "loss_val = history.history['val_loss']\n",
    "\n",
    "#accuracy\n",
    "accuracy = history.history['accuracy']\n",
    "acc_val = history.history['val_accuracy']\n",
    "\n",
    "#visulalization\n",
    "plt.figure()\n",
    "plt.plot(loss, label = 'loss')\n",
    "plt.plot(loss_val, label = 'val_loss')\n",
    "plt.title('Loss')\n",
    "plt.legend()\n",
    "plt.show()\n",
    "\n",
    "plt.figure()\n",
    "plt.plot(accuracy, label = 'accuracy')\n",
    "plt.plot(acc_val , label = 'val_acc')\n",
    "plt.title('Accuracy')\n",
    "plt.legend()\n",
    "plt.show()"
   ]
  },
  {
   "cell_type": "code",
   "execution_count": 75,
   "id": "db99808e",
   "metadata": {},
   "outputs": [
    {
     "name": "stdout",
     "output_type": "stream",
     "text": [
      "prediction:  tf.Tensor(\n",
      "[[4.3378954e-08 2.2972156e-06 9.6741478e-06 1.2551658e-04 5.9500439e-05\n",
      "  7.5998202e-07 3.2180628e-10 9.9979550e-01 7.1994839e-07 5.9358767e-06]], shape=(1, 10), dtype=float32) \n",
      " targets: [7]\n"
     ]
    }
   ],
   "source": [
    "output = model(img_test[0:1])\n",
    "print('prediction: ',output, '\\n targets:',targets_test[0:1])"
   ]
  },
  {
   "cell_type": "code",
   "execution_count": null,
   "id": "b4384f05",
   "metadata": {},
   "outputs": [],
   "source": []
  }
 ],
 "metadata": {
  "kernelspec": {
   "display_name": "Python 3 (ipykernel)",
   "language": "python",
   "name": "python3"
  },
  "language_info": {
   "codemirror_mode": {
    "name": "ipython",
    "version": 3
   },
   "file_extension": ".py",
   "mimetype": "text/x-python",
   "name": "python",
   "nbconvert_exporter": "python",
   "pygments_lexer": "ipython3",
   "version": "3.9.9"
  }
 },
 "nbformat": 4,
 "nbformat_minor": 5
}
